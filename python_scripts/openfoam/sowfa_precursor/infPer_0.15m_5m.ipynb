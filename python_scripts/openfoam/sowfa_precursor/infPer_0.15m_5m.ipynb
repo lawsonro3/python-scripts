{
 "cells": [
  {
   "cell_type": "code",
   "execution_count": null,
   "metadata": {},
   "outputs": [],
   "source": [
    "import numpy as np\n",
    "import matplotlib.pyplot as plt\n",
    "import pandas as pd\n",
    "import os\n",
    "from glob import glob\n",
    "from importlib import reload\n",
    "import sowfa_precursor\n",
    "sowfa_precursor = reload(sowfa_precursor)\n",
    "%matplotlib inline"
   ]
  },
  {
   "cell_type": "markdown",
   "metadata": {},
   "source": [
    "# Creat sowfa_precursor object and enter neccisary user inputs"
   ]
  },
  {
   "cell_type": "code",
   "execution_count": null,
   "metadata": {},
   "outputs": [],
   "source": [
    "perInf_15_5 =  sowfa_precursor.Sim(\n",
    "    dir='/projects/windsim/mlawson/wake_steering/stableABLRuns/infPer_0.15m_5m',\n",
    "    log='log.1qm.ABLSolver',\n",
    "    time_dir='0',\n",
    "    avg_time=29000,\n",
    "    avg_width=2000,\n",
    "    z_level=90.0)\n",
    "perInf_15_5.input['heights'] = np.array([0,1/2,1,3/2,2,3,4,5])*perInf_15_5.input['windHeight']"
   ]
  },
  {
   "cell_type": "markdown",
   "metadata": {},
   "source": [
    "## Make Plots"
   ]
  },
  {
   "cell_type": "code",
   "execution_count": null,
   "metadata": {},
   "outputs": [],
   "source": [
    "perInf_15_5.theta_w_avg_cell()"
   ]
  },
  {
   "cell_type": "code",
   "execution_count": null,
   "metadata": {},
   "outputs": [],
   "source": [
    "perInf_15_5.Umean_avg_nonnormalized()"
   ]
  },
  {
   "cell_type": "code",
   "execution_count": null,
   "metadata": {},
   "outputs": [],
   "source": [
    "perInf_15_5.Tmean_avg_nonnormalized()"
   ]
  },
  {
   "cell_type": "code",
   "execution_count": null,
   "metadata": {},
   "outputs": [],
   "source": [
    "perInf_15_5.variances_avg_cell()"
   ]
  }
 ],
 "metadata": {
  "kernelspec": {
   "display_name": "Python 3",
   "language": "python",
   "name": "python3"
  },
  "language_info": {
   "codemirror_mode": {
    "name": "ipython",
    "version": 3
   },
   "file_extension": ".py",
   "mimetype": "text/x-python",
   "name": "python",
   "nbconvert_exporter": "python",
   "pygments_lexer": "ipython3",
   "version": "3.7.0"
  }
 },
 "nbformat": 4,
 "nbformat_minor": 2
}
