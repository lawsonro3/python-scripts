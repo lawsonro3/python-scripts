{
 "cells": [
  {
   "cell_type": "code",
   "execution_count": 4,
   "metadata": {},
   "outputs": [],
   "source": [
    "import numpy as np\n",
    "import matplotlib.pyplot as plt\n",
    "import pandas as pd\n",
    "import imp\n",
    "\n",
    "import read\n",
    "import sowfa_precursor\n",
    "\n",
    "import os\n",
    "from glob import glob\n",
    "\n",
    "%matplotlib inline"
   ]
  },
  {
   "cell_type": "markdown",
   "metadata": {},
   "source": [
    "## Load the data"
   ]
  },
  {
   "cell_type": "code",
   "execution_count": 5,
   "metadata": {},
   "outputs": [
    {
     "name": "stdout",
     "output_type": "stream",
     "text": [
      "\n",
      "Reading /Users/mlawson/Peregrine/windsim/wake_steering/stableABLRuns/infPer_0.001m_5m/setUp\n",
      "\n",
      "Succesfully read /Users/mlawson/Peregrine/windsim/wake_steering/stableABLRuns/infPer_0.001m_5m/setUp\n"
     ]
    }
   ],
   "source": [
    "inputData = dict()\n",
    "inputData['baseDir'] = '/Users/mlawson/Peregrine/windsim/wake_steering/stableABLRuns/infPer_0.001m_5m'\n",
    "inputData['avg_dir'] = os.path.join(inputData['baseDir'],'postProcessing/averaging')\n",
    "inputData['setUpFile'] = os.path.join(inputData['baseDir'],'setUp')\n",
    "inputData['times'] =  glob(os.path.join(inputData['baseDir'],inputData['avg_dir'],\"*\"))\n",
    "inputData['hLevelsCellFile'] = os.path.join\n",
    "\n",
    "inputData['time_dir'] = os.path.join(inputData['avg_dir'],'2500')\n",
    "inputData['avg_time'] = 29000                      # time to average about (s)\n",
    "inputData['avg_width'] = 2000                      # average width (s)\n",
    "inputData['zLevel'] = 90.0                         # height to plot average velocity vs. time (m)\n",
    "\n",
    "setUp = read.read_input(inputData['setUpFile'])\n",
    "inputData.update(setUp.data)\n",
    "\n",
    "inputData['heights'] = np.array([0,1/2,1,3/2,2,3,4,5])*inputData['windHeight']\n",
    "inputData['hLevelCellFile'] = os.path.join(inputData['times'][0],'hLevelsCell')\n",
    "\n",
    "inputData['zCell'] = np.array(open(inputData['hLevelCellFile'],'r').read().split()).astype(np.float)\n",
    "\n"
   ]
  },
  {
   "cell_type": "code",
   "execution_count": 32,
   "metadata": {},
   "outputs": [
    {
     "name": "stdout",
     "output_type": "stream",
     "text": [
      "{'baseDir': '/Users/mlawson/Peregrine/windsim/wake_steering/stableABLRuns/infPer_0.001m_5m', 'avg_dir': 'postProcessing/averaging', 'setUpFile': '/Users/mlawson/Peregrine/windsim/wake_steering/stableABLRuns/infPer_0.001m_5m/setUp', 'times': ['/Users/mlawson/Peregrine/windsim/wake_steering/stableABLRuns/infPer_0.001m_5m/postProcessing/averaging/25000', '/Users/mlawson/Peregrine/windsim/wake_steering/stableABLRuns/infPer_0.001m_5m/postProcessing/averaging/30000', '/Users/mlawson/Peregrine/windsim/wake_steering/stableABLRuns/infPer_0.001m_5m/postProcessing/averaging/0', '/Users/mlawson/Peregrine/windsim/wake_steering/stableABLRuns/infPer_0.001m_5m/postProcessing/averaging/20000'], 'hLevelsCellFile': <function join at 0x109573158>, 'avg_time': 29000, 'avg_width': 2000, 'zLevel': 90.0, 'xMin': 0.0, 'yMin': 0.0, 'zMin': 0.0, 'xMax': 3000.0, 'yMax': 2000.0, 'zMax': 750.0, 'nx': 600.0, 'ny': 400.0, 'nz': 150.0, 'nCores': 720.0, 'decompType': 'scotch', 'decompOrder': '(1', 'statisticsOn': 'true', 'statisticsFrequency': 5.0, 'U0Mag': 8.0, 'dir': 270.0, 'windHeight': 90.0, 'p_rgh0': 0.0, 'nuSgs0': 0.0, 'k0': 0.1, 'kappat0': 0.0, 'TGradUpper': 0.003, 'zInversion': 500.0, 'inversionWidth': 0.0001, 'TBottom': 300.0, 'TTop': 300.0, 'Pr': 0.7, 'Prt': 0.33333333, 'nu': 1e-05, 'TRef': 300.0, 'latitude': 41.3, 'EarthPeriod': 1e+21, 'LESModel': 'oneEqEddyABL', 'ce': 0.93, 'ck': 0.0673, 'qwall': '(0.', 'Rwall': '(0.', 'kappa': 0.4, 'z0': 0.001, 'wallModelAverageType': '\"planarAverage\"', 'betaM': 15.0, 'gammaM': 4.9, 'betaH': 9.0, 'gammaH': 7.8, 'alphaH': 1.0, 'heatingRate': -3.4748e-05, 'heights': array([  0.,  45.,  90., 135., 180., 270., 360., 450.]), 'hLevelCellFile': '/Users/mlawson/Peregrine/windsim/wake_steering/stableABLRuns/infPer_0.001m_5m/postProcessing/averaging/25000/hLevelsCell', 'zCell': array([  2.5,   7.5,  12.5,  17.5,  22.5,  27.5,  32.5,  37.5,  42.5,\n",
      "        47.5,  52.5,  57.5,  62.5,  67.5,  72.5,  77.5,  82.5,  87.5,\n",
      "        92.5,  97.5, 102.5, 107.5, 112.5, 117.5, 122.5, 127.5, 132.5,\n",
      "       137.5, 142.5, 147.5, 152.5, 157.5, 162.5, 167.5, 172.5, 177.5,\n",
      "       182.5, 187.5, 192.5, 197.5, 202.5, 207.5, 212.5, 217.5, 222.5,\n",
      "       227.5, 232.5, 237.5, 242.5, 247.5, 252.5, 257.5, 262.5, 267.5,\n",
      "       272.5, 277.5, 282.5, 287.5, 292.5, 297.5, 302.5, 307.5, 312.5,\n",
      "       317.5, 322.5, 327.5, 332.5, 337.5, 342.5, 347.5, 352.5, 357.5,\n",
      "       362.5, 367.5, 372.5, 377.5, 382.5, 387.5, 392.5, 397.5, 402.5,\n",
      "       407.5, 412.5, 417.5, 422.5, 427.5, 432.5, 437.5, 442.5, 447.5,\n",
      "       452.5, 457.5, 462.5, 467.5, 472.5, 477.5, 482.5, 487.5, 492.5,\n",
      "       497.5, 502.5, 507.5, 512.5, 517.5, 522.5, 527.5, 532.5, 537.5,\n",
      "       542.5, 547.5, 552.5, 557.5, 562.5, 567.5, 572.5, 577.5, 582.5,\n",
      "       587.5, 592.5, 597.5, 602.5, 607.5, 612.5, 617.5, 622.5, 627.5,\n",
      "       632.5, 637.5, 642.5, 647.5, 652.5, 657.5, 662.5, 667.5, 672.5,\n",
      "       677.5, 682.5, 687.5, 692.5, 697.5, 702.5, 707.5, 712.5, 717.5,\n",
      "       722.5, 727.5, 732.5, 737.5, 742.5, 747.5])}\n"
     ]
    }
   ],
   "source": [
    "print(inputData)"
   ]
  },
  {
   "cell_type": "code",
   "execution_count": 6,
   "metadata": {},
   "outputs": [
    {
     "ename": "TypeError",
     "evalue": "expected str, bytes or os.PathLike object, not int",
     "output_type": "error",
     "traceback": [
      "\u001b[0;31m---------------------------------------------------------------------------\u001b[0m",
      "\u001b[0;31mTypeError\u001b[0m                                 Traceback (most recent call last)",
      "\u001b[0;32m<ipython-input-6-0be5b64f94d9>\u001b[0m in \u001b[0;36m<module>\u001b[0;34m\u001b[0m\n\u001b[1;32m      1\u001b[0m \u001b[0;31m# imp.reload(funcPrecursor)\u001b[0m\u001b[0;34m\u001b[0m\u001b[0;34m\u001b[0m\u001b[0;34m\u001b[0m\u001b[0m\n\u001b[0;32m----> 2\u001b[0;31m \u001b[0minputData\u001b[0m \u001b[0;34m=\u001b[0m \u001b[0msowfa_precursor\u001b[0m\u001b[0;34m.\u001b[0m\u001b[0mtheta_w_avg_cell\u001b[0m\u001b[0;34m(\u001b[0m\u001b[0minputData\u001b[0m\u001b[0;34m)\u001b[0m\u001b[0;34m\u001b[0m\u001b[0;34m\u001b[0m\u001b[0m\n\u001b[0m",
      "\u001b[0;32m~/Peregrine/home/scripts/python_scripts/python_scripts/openfoam/sowfa_precursor.py\u001b[0m in \u001b[0;36mtheta_w_avg_cell\u001b[0;34m(inputData)\u001b[0m\n\u001b[1;32m     28\u001b[0m     \u001b[0mni\u001b[0m \u001b[0;34m=\u001b[0m \u001b[0mlen\u001b[0m\u001b[0;34m(\u001b[0m\u001b[0minputData\u001b[0m\u001b[0;34m[\u001b[0m\u001b[0;34m'times'\u001b[0m\u001b[0;34m]\u001b[0m\u001b[0;34m)\u001b[0m\u001b[0;34m\u001b[0m\u001b[0;34m\u001b[0m\u001b[0m\n\u001b[1;32m     29\u001b[0m \u001b[0;34m\u001b[0m\u001b[0m\n\u001b[0;32m---> 30\u001b[0;31m     \u001b[0mstrData\u001b[0m \u001b[0;34m=\u001b[0m \u001b[0mos\u001b[0m\u001b[0;34m.\u001b[0m\u001b[0mpath\u001b[0m\u001b[0;34m.\u001b[0m\u001b[0mjoin\u001b[0m\u001b[0;34m(\u001b[0m\u001b[0minputData\u001b[0m\u001b[0;34m[\u001b[0m\u001b[0;34m'time_dir'\u001b[0m\u001b[0;34m]\u001b[0m\u001b[0;34m,\u001b[0m \u001b[0;34m'Tw_mean'\u001b[0m\u001b[0;34m)\u001b[0m\u001b[0;34m\u001b[0m\u001b[0;34m\u001b[0m\u001b[0m\n\u001b[0m\u001b[1;32m     31\u001b[0m     \u001b[0mdata\u001b[0m \u001b[0;34m=\u001b[0m \u001b[0mpd\u001b[0m\u001b[0;34m.\u001b[0m\u001b[0mread_csv\u001b[0m\u001b[0;34m(\u001b[0m\u001b[0mstrData\u001b[0m\u001b[0;34m,\u001b[0m\u001b[0mheader\u001b[0m\u001b[0;34m=\u001b[0m\u001b[0;32mNone\u001b[0m\u001b[0;34m,\u001b[0m\u001b[0mdelimiter\u001b[0m\u001b[0;34m=\u001b[0m\u001b[0;34m' '\u001b[0m\u001b[0;34m)\u001b[0m\u001b[0;34m\u001b[0m\u001b[0;34m\u001b[0m\u001b[0m\n\u001b[1;32m     32\u001b[0m \u001b[0;34m\u001b[0m\u001b[0m\n",
      "\u001b[0;32m~/miniconda3/envs/env/lib/python3.7/posixpath.py\u001b[0m in \u001b[0;36mjoin\u001b[0;34m(a, *p)\u001b[0m\n\u001b[1;32m     78\u001b[0m     \u001b[0mwill\u001b[0m \u001b[0mbe\u001b[0m \u001b[0mdiscarded\u001b[0m\u001b[0;34m.\u001b[0m  \u001b[0mAn\u001b[0m \u001b[0mempty\u001b[0m \u001b[0mlast\u001b[0m \u001b[0mpart\u001b[0m \u001b[0mwill\u001b[0m \u001b[0mresult\u001b[0m \u001b[0;32min\u001b[0m \u001b[0ma\u001b[0m \u001b[0mpath\u001b[0m \u001b[0mthat\u001b[0m\u001b[0;34m\u001b[0m\u001b[0;34m\u001b[0m\u001b[0m\n\u001b[1;32m     79\u001b[0m     ends with a separator.\"\"\"\n\u001b[0;32m---> 80\u001b[0;31m     \u001b[0ma\u001b[0m \u001b[0;34m=\u001b[0m \u001b[0mos\u001b[0m\u001b[0;34m.\u001b[0m\u001b[0mfspath\u001b[0m\u001b[0;34m(\u001b[0m\u001b[0ma\u001b[0m\u001b[0;34m)\u001b[0m\u001b[0;34m\u001b[0m\u001b[0;34m\u001b[0m\u001b[0m\n\u001b[0m\u001b[1;32m     81\u001b[0m     \u001b[0msep\u001b[0m \u001b[0;34m=\u001b[0m \u001b[0m_get_sep\u001b[0m\u001b[0;34m(\u001b[0m\u001b[0ma\u001b[0m\u001b[0;34m)\u001b[0m\u001b[0;34m\u001b[0m\u001b[0;34m\u001b[0m\u001b[0m\n\u001b[1;32m     82\u001b[0m     \u001b[0mpath\u001b[0m \u001b[0;34m=\u001b[0m \u001b[0ma\u001b[0m\u001b[0;34m\u001b[0m\u001b[0;34m\u001b[0m\u001b[0m\n",
      "\u001b[0;31mTypeError\u001b[0m: expected str, bytes or os.PathLike object, not int"
     ]
    }
   ],
   "source": [
    "# imp.reload(funcPrecursor)\n",
    "inputData = sowfa_precursor.theta_w_avg_cell(inputData)"
   ]
  },
  {
   "cell_type": "code",
   "execution_count": null,
   "metadata": {},
   "outputs": [],
   "source": [
    "#uStarAvg = funcPrecursor.uStar_avg_cell(baseDir,avg_dir,time,avg_time,avg_width)\n",
    "inputData['uStarAvg'] = 0.72"
   ]
  },
  {
   "cell_type": "code",
   "execution_count": null,
   "metadata": {},
   "outputs": [],
   "source": [
    "# Plots <U>\n",
    "outputData = funcPrecursor.Umean_avg_nonnormalized(inputData)\n",
    "inputData['dUdz1Avg'] = outputData['dUdz1Avg']\n",
    "inputData['dVdz1Avg'] = outputData['dVdz1Avg']\n",
    "inputData['U'] = outputData['Uvec']\n",
    "inputData['Umag'] = outputData['Umag']\n",
    "inputData['dir'] = outputData['dir']\n"
   ]
  },
  {
   "cell_type": "code",
   "execution_count": null,
   "metadata": {},
   "outputs": [],
   "source": [
    "# plots <T>\n",
    "imp.reload(funcPrecursor)\n",
    "\n",
    "inputData['Tmag'] = funcPrecursor.Tmean_avg_nonnormalized(inputData)"
   ]
  },
  {
   "cell_type": "code",
   "execution_count": null,
   "metadata": {},
   "outputs": [],
   "source": [
    "# plots <u_i u_j>\n",
    "\n",
    "imp.reload(funcPrecursor)\n",
    "\n",
    "outputData = funcPrecursor.variances_avg_cell(inputData)\n",
    "\n",
    "inputData['TIxResolved'] = outputData['TIxResolved']\n",
    "inputData['TIyResolved'] = outputData['TIyResolved']\n",
    "inputData['TIzResolved'] = outputData['TIzResolved']\n",
    "inputData['TIxyzResolved'] = outputData['TIxyzResolved']\n",
    "inputData['TIdirResolved'] = outputData['TIdirResolved']\n",
    "inputData['tkeResolved'] = outputData['tkeResolved']\n",
    "inputData['TIxSum'] = outputData['TIxSum']\n",
    "inputData['TIySum'] = outputData['TIySum']\n",
    "inputData['TIzSum'] = outputData['TIzSum']\n",
    "inputData['TIxyzSum'] = outputData['TIxyzSum']\n",
    "inputData['TIdirSum'] = outputData['TIdirSum']\n",
    "inputData['tkeSum'] = outputData['tkeSum']"
   ]
  },
  {
   "cell_type": "code",
   "execution_count": null,
   "metadata": {},
   "outputs": [],
   "source": [
    "imp.reload(funcPrecursor)\n",
    "\n",
    "funcPrecursor.Umean_h(inputData)"
   ]
  },
  {
   "cell_type": "code",
   "execution_count": null,
   "metadata": {},
   "outputs": [],
   "source": [
    "# plot other stuff\n",
    "\n",
    "z = np.linspace(inputData['zMin'],inputData['zMax'],1000)\n",
    "U = inputData['Ug']*(z/inputData['zHub'])**inputData['alpha']\n",
    "\n",
    "plt.figure()\n",
    "plt.plot(U,z,'r-')\n",
    "plt.plot([2,12],[inputData['zHub'],inputData['zHub']],'k--')\n",
    "\n",
    "g = 9.81\n",
    "Tref = 300.\n",
    "Q_s = 0.0\n",
    "\n",
    "wStarAvg = ((g/Tref)*Q_s*inputData['ziAvg'])**(1./3.)\n",
    "#L = -(Tref*inputData['uStarAvg']**3)/(g*Q_s*0.4)\n",
    "#neg_zi_L = -inputData['ziAvg']/L\n",
    "tau_uStar = inputData['ziAvg']/inputData['uStarAvg']\n",
    "tau_wStar = inputData['ziAvg']/wStarAvg\n",
    "\n",
    "#U_top = np.sqrt( (U[]) )"
   ]
  },
  {
   "cell_type": "code",
   "execution_count": null,
   "metadata": {},
   "outputs": [],
   "source": [
    "U_top = np.sqrt( inputData['U'][3,0]**2 + inputData['U'][3,1]**2 )\n",
    "U_hub = np.sqrt( inputData['U'][2,0]**2 + inputData['U'][2,1]**2 )\n",
    "U_bot = np.sqrt( inputData['U'][1,0]**2 + inputData['U'][1,1]**2 )\n",
    "\n",
    "U_shear = (U_top - U_bot)/(inputData['heights'][2] - inputData['heights'][0])\n",
    "dir_shear = (inputData['dir'][2] - inputData['dir'][0])/(inputData['heights'][2]-inputData['heights'][0])\n",
    "\n",
    "print('Top = ', U_top)\n",
    "print('Hub = ', U_hub)\n",
    "print('Bot = ', U_bot)"
   ]
  },
  {
   "cell_type": "code",
   "execution_count": null,
   "metadata": {},
   "outputs": [],
   "source": [
    "inputData"
   ]
  },
  {
   "cell_type": "code",
   "execution_count": null,
   "metadata": {},
   "outputs": [],
   "source": []
  },
  {
   "cell_type": "code",
   "execution_count": null,
   "metadata": {},
   "outputs": [],
   "source": []
  },
  {
   "cell_type": "code",
   "execution_count": null,
   "metadata": {},
   "outputs": [],
   "source": []
  },
  {
   "cell_type": "code",
   "execution_count": null,
   "metadata": {},
   "outputs": [],
   "source": []
  },
  {
   "cell_type": "code",
   "execution_count": null,
   "metadata": {},
   "outputs": [],
   "source": []
  }
 ],
 "metadata": {
  "kernelspec": {
   "display_name": "Python 3",
   "language": "python",
   "name": "python3"
  },
  "language_info": {
   "codemirror_mode": {
    "name": "ipython",
    "version": 3
   },
   "file_extension": ".py",
   "mimetype": "text/x-python",
   "name": "python",
   "nbconvert_exporter": "python",
   "pygments_lexer": "ipython3",
   "version": "3.7.1"
  }
 },
 "nbformat": 4,
 "nbformat_minor": 2
}
