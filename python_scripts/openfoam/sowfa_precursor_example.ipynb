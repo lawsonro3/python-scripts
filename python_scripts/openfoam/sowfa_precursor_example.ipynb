{
 "cells": [
  {
   "cell_type": "markdown",
   "metadata": {},
   "source": [
    "## Example of how to use the sowfa_precursor API to look at presursor simulation stats"
   ]
  },
  {
   "cell_type": "markdown",
   "metadata": {},
   "source": [
    "* Inputs are stored in sowfa_precursor.Sim.input\n",
    "* Outputs that are calculated are stored in sowfa_precursor.Sim.output\n",
    "* To use this script, `sowfa_precursor.py` must be in the same folder as this script or in your `$PYTHONPATH`\n",
    "* Settings are read from the SOWFA `setUp` file and the `ABLSolver` log file. Accordingly, both files must be in the `dir` that is specified when the `sowfa_precursor.Sim` object\n",
    "* Please make pull requests if something is broken or if you make improvments to this code\n",
    "* See also `./sowfa_precursor_example.py`"
   ]
  },
  {
   "cell_type": "code",
   "execution_count": null,
   "metadata": {},
   "outputs": [],
   "source": [
    "import numpy as np\n",
    "from importlib import reload\n",
    "import sowfa_precursor\n",
    "sowfa_precursor = reload(sowfa_precursor)\n",
    "%matplotlib inline"
   ]
  },
  {
   "cell_type": "markdown",
   "metadata": {},
   "source": [
    "## Creat sowfa_precursor object and enter neccisary user inputs"
   ]
  },
  {
   "cell_type": "code",
   "execution_count": null,
   "metadata": {},
   "outputs": [],
   "source": [
    "precursor =  sowfa_precursor.Sim(\n",
    "    dir='./',                  # SOWFA case directory\n",
    "    log='log.1.ABLSolver',     # SOWFA log file\n",
    "    time_dir='0',              # directory in dir/postProcessing/averaging that will be used to compute averages\n",
    "    avg_time=29000,            # time (s) which average stats are computed around\n",
    "    avg_width=2000,            # size of the averaging window in seconds\n",
    "    z_level=90.0)              # hight at which to plot stats\n",
    "precursor.input['heights'] = np.array([0,1/2,1,3/2,2,3,4,5])*precursor.input['windHeight']"
   ]
  },
  {
   "cell_type": "markdown",
   "metadata": {},
   "source": [
    "## Make Plots"
   ]
  },
  {
   "cell_type": "code",
   "execution_count": null,
   "metadata": {},
   "outputs": [],
   "source": [
    "precursor.theta_w_avg_cell()"
   ]
  },
  {
   "cell_type": "code",
   "execution_count": null,
   "metadata": {},
   "outputs": [],
   "source": [
    "precursor.Umean_avg_nonnormalized()"
   ]
  },
  {
   "cell_type": "code",
   "execution_count": null,
   "metadata": {},
   "outputs": [],
   "source": [
    "precursor.Tmean_avg_nonnormalized()"
   ]
  },
  {
   "cell_type": "code",
   "execution_count": null,
   "metadata": {},
   "outputs": [],
   "source": [
    "precursor.variances_avg_cell()"
   ]
  }
 ],
 "metadata": {
  "kernelspec": {
   "display_name": "Python 3",
   "language": "python",
   "name": "python3"
  },
  "language_info": {
   "codemirror_mode": {
    "name": "ipython",
    "version": 3
   },
   "file_extension": ".py",
   "mimetype": "text/x-python",
   "name": "python",
   "nbconvert_exporter": "python",
   "pygments_lexer": "ipython3",
   "version": "3.7.0"
  }
 },
 "nbformat": 4,
 "nbformat_minor": 2
}
